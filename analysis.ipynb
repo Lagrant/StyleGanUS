{
 "cells": [
  {
   "cell_type": "code",
   "execution_count": 8,
   "metadata": {},
   "outputs": [],
   "source": [
    "import numpy as np\n",
    "import matplotlib.pyplot as plt\n",
    "import os\n",
    "import json"
   ]
  },
  {
   "cell_type": "code",
   "execution_count": 18,
   "metadata": {},
   "outputs": [],
   "source": [
    "userselections = []\n",
    "userfolder = './users'\n",
    "for f in os.listdir(userfolder):\n",
    "    if f.endswith('.json'):\n",
    "        with open(os.path.join(userfolder, f)) as json_file:\n",
    "            userselections.append(json.load(json_file))"
   ]
  },
  {
   "cell_type": "code",
   "execution_count": 19,
   "metadata": {},
   "outputs": [],
   "source": [
    "for user in userselections:\n",
    "    for selection in user:\n",
    "        selection['models'] = [selection['taskImgs'][1].split('/')[-1].split('.')[0],\n",
    "                               selection['taskImgs'][2].split('/')[-1].split('.')[0]]\n",
    "        judge_idx = int(selection['judge'][-1]) - 1\n",
    "        selection['judge'] = selection['models'][judge_idx]\n",
    "        del selection['taskImgs']"
   ]
  },
  {
   "cell_type": "code",
   "execution_count": 22,
   "metadata": {},
   "outputs": [],
   "source": [
    "def whichModel(models):\n",
    "    return models[1] if models[0] == 'w++' else models[0]"
   ]
  },
  {
   "cell_type": "code",
   "execution_count": 68,
   "metadata": {},
   "outputs": [],
   "source": [
    "w = {'inversion': {'w++': [], 'w': []}, 'smile': {'w++': [], 'w': []}, 'age': {'w++': [], 'w': []}, 'transition': {'w++': [], 'w': []}}\n",
    "wp = {'inversion': {'w++': [], 'w+': []}, 'smile': {'w++': [], 'w+': []}, 'age': {'w++': [], 'w+': []}, 'transition': {'w++': [], 'w+': []}}\n",
    "for user in userselections:\n",
    "    w_t = {'inversion': {'w++': 0, 'w': 0}, 'smile': {'w++': 0, 'w': 0}, 'age': {'w++': 0, 'w': 0}, 'transition': {'w++': 0, 'w': 0}}\n",
    "    wp_t = {'inversion': {'w++': 0, 'w+': 0}, 'smile': {'w++': 0, 'w+': 0}, 'age': {'w++': 0, 'w+': 0}, 'transition': {'w++': 0, 'w+': 0}}\n",
    "    for task in user:\n",
    "        m = whichModel(task['models'])\n",
    "        if m == 'w':\n",
    "            w_t[task['taskName']][task['judge']] += 1\n",
    "        elif m == 'w+':\n",
    "            wp_t[task['taskName']][task['judge']] += 1\n",
    "    for task in w_t:\n",
    "        if w_t[task]['w'] != 0 or w_t[task]['w++'] != 0:\n",
    "            w[task]['w'].append(w_t[task]['w'])\n",
    "            w[task]['w++'].append(w_t[task]['w++'])\n",
    "        if wp_t[task]['w+'] != 0 or wp_t[task]['w++'] != 0:\n",
    "            wp[task]['w+'].append(wp_t[task]['w+'])\n",
    "            wp[task]['w++'].append(wp_t[task]['w++'])"
   ]
  },
  {
   "cell_type": "code",
   "execution_count": 70,
   "metadata": {},
   "outputs": [],
   "source": [
    "wp['inversion']['w++'] = np.sum(wp['inversion']['w++'])\n",
    "wp['inversion']['w+'] = np.sum(wp['inversion']['w+'])\n",
    "wp['smile']['w++'] = np.sum(wp['smile']['w++'])\n",
    "wp['smile']['w+'] = np.sum(wp['smile']['w+'])\n",
    "wp['age']['w++'] = np.sum(wp['age']['w++'])\n",
    "wp['age']['w+'] = np.sum(wp['age']['w+'])\n",
    "wp['transition']['w++'] = np.sum(wp['transition']['w++'])\n",
    "wp['transition']['w+'] = np.sum(wp['transition']['w+'])"
   ]
  },
  {
   "cell_type": "code",
   "execution_count": 71,
   "metadata": {},
   "outputs": [
    {
     "data": {
      "text/plain": [
       "{'inversion': {'w++': 35, 'w+': 28},\n",
       " 'smile': {'w++': 28, 'w+': 15},\n",
       " 'age': {'w++': 52, 'w+': 2},\n",
       " 'transition': {'w++': 35, 'w+': 7}}"
      ]
     },
     "execution_count": 71,
     "metadata": {},
     "output_type": "execute_result"
    }
   ],
   "source": [
    "wp"
   ]
  },
  {
   "cell_type": "code",
   "execution_count": 80,
   "metadata": {},
   "outputs": [
    {
     "data": {
      "text/plain": [
       "<matplotlib.legend.Legend at 0x7fc5fae501c0>"
      ]
     },
     "execution_count": 80,
     "metadata": {},
     "output_type": "execute_result"
    },
    {
     "data": {
      "image/png": "[encoded data removed]",
      "text/plain": [
       "<Figure size 432x288 with 1 Axes>"
      ]
     },
     "metadata": {
      "needs_background": "light"
     },
     "output_type": "display_data"
    }
   ],
   "source": [
    "barWidth = 0.3\n",
    "bars1 = [wp['inversion']['w++'], wp['smile']['w++'], wp['age']['w++'], wp['transition']['w++']]\n",
    "bars2 = [wp['inversion']['w+'], wp['smile']['w+'], wp['age']['w+'], wp['transition']['w+']]\n",
    "\n",
    "r1 = np.arange(len(bars1))\n",
    "r2 = [x + barWidth for x in r1]\n",
    "\n",
    "plt.bar(r1, bars1, width = barWidth, color = 'steelblue', edgecolor = 'black', label='w++')\n",
    "plt.bar(r2, bars2, width = barWidth, color = 'orange', edgecolor = 'black', label='w+')\n",
    "\n",
    "plt.xticks([r + barWidth for r in range(len(bars1))], ['inversion', 'smile', 'age', 'transition'])\n",
    "plt.ylabel('count')\n",
    "plt.legend()"
   ]
  },
  {
   "cell_type": "code",
   "execution_count": 72,
   "metadata": {},
   "outputs": [],
   "source": [
    "w['inversion']['w++'] = np.sum(w['inversion']['w++'])\n",
    "w['inversion']['w'] = np.sum(w['inversion']['w'])\n",
    "w['smile']['w++'] = np.sum(w['smile']['w++'])\n",
    "w['smile']['w'] = np.sum(w['smile']['w'])\n",
    "w['age']['w++'] = np.sum(w['age']['w++'])\n",
    "w['age']['w'] = np.sum(w['age']['w'])\n",
    "w['transition']['w++'] = np.sum(w['transition']['w++'])\n",
    "w['transition']['w'] = np.sum(w['transition']['w'])"
   ]
  },
  {
   "cell_type": "code",
   "execution_count": 73,
   "metadata": {},
   "outputs": [
    {
     "data": {
      "text/plain": [
       "{'inversion': {'w++': 55, 'w': 5},\n",
       " 'smile': {'w++': 29, 'w': 10},\n",
       " 'age': {'w++': 51, 'w': 18},\n",
       " 'transition': {'w++': 29, 'w': 11}}"
      ]
     },
     "execution_count": 73,
     "metadata": {},
     "output_type": "execute_result"
    }
   ],
   "source": [
    "w"
   ]
  },
  {
   "cell_type": "code",
   "execution_count": 79,
   "metadata": {},
   "outputs": [
    {
     "data": {
      "text/plain": [
       "<matplotlib.legend.Legend at 0x7fc5c83eef10>"
      ]
     },
     "execution_count": 79,
     "metadata": {},
     "output_type": "execute_result"
    },
    {
     "data": {
      "image/png": "[encoded data removed]",
      "text/plain": [
       "<Figure size 432x288 with 1 Axes>"
      ]
     },
     "metadata": {
      "needs_background": "light"
     },
     "output_type": "display_data"
    }
   ],
   "source": [
    "barWidth = 0.3\n",
    "bars1 = [w['inversion']['w++'], w['smile']['w++'], w['age']['w++'], w['transition']['w++']]\n",
    "bars2 = [w['inversion']['w'], w['smile']['w'], w['age']['w'], w['transition']['w']]\n",
    "\n",
    "r1 = np.arange(len(bars1))\n",
    "r2 = [x + barWidth for x in r1]\n",
    "\n",
    "plt.bar(r1, bars1, width = barWidth, color = 'steelblue', edgecolor = 'black', label='w++')\n",
    "plt.bar(r2, bars2, width = barWidth, color = 'orange', edgecolor = 'black', label='w')\n",
    "\n",
    "plt.xticks([r + barWidth for r in range(len(bars1))], ['inversion', 'smile', 'age', 'transition'])\n",
    "plt.ylabel('count')\n",
    "plt.legend()"
   ]
  }
 ],
 "metadata": {
  "interpreter": {
   "hash": "f2891b0003bcc813f85e43bee44ffb0c5f5711ba8667fd4d8ef97b8245363612"
  },
  "kernelspec": {
   "display_name": "Python 3.9.7 ('base')",
   "language": "python",
   "name": "python3"
  },
  "language_info": {
   "codemirror_mode": {
    "name": "ipython",
    "version": 3
   },
   "file_extension": ".py",
   "mimetype": "text/x-python",
   "name": "python",
   "nbconvert_exporter": "python",
   "pygments_lexer": "ipython3",
   "version": "3.9.7"
  },
  "orig_nbformat": 4
 },
 "nbformat": 4,
 "nbformat_minor": 2
}
